{
 "cells": [
  {
   "cell_type": "code",
   "execution_count": 3,
   "id": "adedc260",
   "metadata": {},
   "outputs": [
    {
     "name": "stdout",
     "output_type": "stream",
     "text": [
      "original string:  hello geeks\n",
      "encrypted string:  b'gAAAAABi4NHoG7EA3sxMa3e-HNCksElgoxswN3JUwAvkEfhEdQcVCHFT1dxTEDP_2wXsq8AgkK20d3-BhTY532cgpFZGeMFF7w=='\n",
      "decrypted string:  hello geeks\n"
     ]
    }
   ],
   "source": [
    "from cryptography.fernet import Fernet\n",
    "\n",
    "# we will be encrypting the below string.\n",
    "message = \" hello geeks\"\n",
    "\n",
    "# generating a key for encryption and decryption using fernet\n",
    "key = Fernet.generate_key()\n",
    "\n",
    "# Instance the Fernet class with the key\n",
    "\n",
    "fernet = Fernet(key)\n",
    "\n",
    "#using fernet instance to encrypt \n",
    "EncryptedMessage = fernet.encrypt(message.encode())\n",
    "\n",
    "print(\"original string: \", message)\n",
    "print(\"encrypted string: \", EncryptedMessage)\n",
    "\n",
    "#using fernet instance to encrypt \n",
    "decMessage = fernet.decrypt(EncryptedMessage).decode()\n",
    "\n",
    "print(\"decrypted string: \", decMessage)\n"
   ]
  },
  {
   "cell_type": "code",
   "execution_count": null,
   "id": "852f05c1",
   "metadata": {},
   "outputs": [],
   "source": []
  }
 ],
 "metadata": {
  "kernelspec": {
   "display_name": "Python 3 (ipykernel)",
   "language": "python",
   "name": "python3"
  },
  "language_info": {
   "codemirror_mode": {
    "name": "ipython",
    "version": 3
   },
   "file_extension": ".py",
   "mimetype": "text/x-python",
   "name": "python",
   "nbconvert_exporter": "python",
   "pygments_lexer": "ipython3",
   "version": "3.9.12"
  }
 },
 "nbformat": 4,
 "nbformat_minor": 5
}
